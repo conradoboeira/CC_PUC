{
 "cells": [
  {
   "cell_type": "markdown",
   "metadata": {
    "colab_type": "text",
    "id": "O9pETg6BD7EX"
   },
   "source": [
    "<h1>Utilizando Jupyter para análise de dados</h1>\n",
    "\n",
    "<p>O Jupyter é um ambiente de execução interativa de código em Python e outras linguagens. Ele permite criar um documento similar a uma página web que pode conter tanto o conteúdo estático tradicional de uma página web quanto código executável. O conteúdo estático é utilizado para documentação do projeto, enquanto que o código executável é utilizado para realizar a análise de dados.</p>\n",
    "<p>Um notebook é organizado com uso de células de conteúdo, que podem conter o conteúdo estático (celulas de texto) ou o conteúdo executável (células de código). Esta\n",
    " introdução que você está lendo, por exemplo, foi redigida em uma célula de texto.</p>\n",
    " <p>Já a próxima célula é uma célula de código:</p>"
   ]
  },
  {
   "cell_type": "code",
   "execution_count": null,
   "metadata": {
    "colab": {
     "base_uri": "https://localhost:8080/",
     "height": 34
    },
    "colab_type": "code",
    "collapsed": true,
    "executionInfo": {
     "elapsed": 950,
     "status": "ok",
     "timestamp": 1553455147326,
     "user": {
      "displayName": "Rodrigo Espindola",
      "photoUrl": "",
      "userId": "00623881267366709334"
     },
     "user_tz": 180
    },
    "id": "QmjwBtpsI-0g",
    "outputId": "983e6e5b-256b-454b-e06d-ec937fff4f45"
   },
   "outputs": [],
   "source": [
    "var = 2 + 2\n",
    "print(var)"
   ]
  },
  {
   "cell_type": "markdown",
   "metadata": {
    "colab_type": "text",
    "id": "0PxtFi_NI_O3"
   },
   "source": [
    "<p>Para aprender mais sobre o funcionamento de um notebook, recomendo o estudo do seguinte material:</p>\n",
    "\n",
    "*   [Projeto Jupyter](https://jupyter.org/)\n",
    "*   [Anaconda](https://www.anaconda.com/)\n",
    "\n",
    "<p>Além disto, recomendo fortemente o estudo das seguintes bibliotecas Python:</p>\n",
    "\n",
    "*   [Python Data Analysis Library (pandas)](https://pandas.pydata.org/)\n",
    "*   [N-dimensional array package (NumPy)](http://www.numpy.org/)\n",
    "*   [Python Machine Learning Toolkit (scikit-learn)](https://scikit-learn.org/)\n",
    "*   [Python 2D plotting library (Matplotlib)](https://matplotlib.org/)\n",
    "*   [Keras: The Python Deep Learning library](https://keras.io/)\n",
    "*   [Tensorflow](https://www.tensorflow.org/)\n",
    "*   Existem outras bibliotecas eventualmente úteis disponíveis em [SciPy Toolkits](https://www.scipy.org/)\n",
    "\n",
    "<h2>Como ler dados de um arquivo .csv em um notebook Jupyter</h2>\n",
    "\n",
    "<p>Trabalhar com arquivos de dados em formato .csv em um notebook Jupyter é muito fácil. Na verdade, é fácil em qualquer programa Python. Isto graças a biblioteca de análise de dados **pandas**. **pandas** (isto não é um erro de português, ela é escrita assim mesmo, sempre em minúsculas) é uma bliblioteca que permite a leitura e a manipulação de dados em formato tabular. Para utilizá-la, precisamos primeiro carregar a biblioteca com o seguinte código:</p>"
   ]
  },
  {
   "cell_type": "code",
   "execution_count": null,
   "metadata": {
    "colab": {},
    "colab_type": "code",
    "collapsed": true,
    "id": "4TZIp597o9jJ"
   },
   "outputs": [],
   "source": [
    "import pandas as pd"
   ]
  },
  {
   "cell_type": "markdown",
   "metadata": {
    "colab_type": "text",
    "id": "nzgC3NG2o9jN"
   },
   "source": [
    "<p>**Atenção**: O carregamento de uma biblioteca é necessário antes de seu uso. Mas, basta carregá-la uma única vez por notebook. Uma vez executado o comando *import*, a biblioteca fica disponível para todas as demais células de código. No exemplo acima a biblioteca **pandas** foi carregada com o alias **pd**, que será utilizado daqui em diante.</p>\n",
    "<p>Agora, com o auxílio da biblioteca **pandas**, carregar os dados de um arquivo .csv exige apenas uma linha. No exemplo a seguir a primeira linha carrega os dados para a memória com o uso de um objeto dataframe, que permite a manipulação de dados tabulares. A linha seguinte apresenta as primeiras linhas da tabela carregada em memória.</p>"
   ]
  },
  {
   "cell_type": "code",
   "execution_count": null,
   "metadata": {
    "colab": {},
    "colab_type": "code",
    "collapsed": true,
    "id": "r2povwnbo9jP"
   },
   "outputs": [],
   "source": [
    "df = pd.read_csv('day.csv')"
   ]
  },
  {
   "cell_type": "markdown",
   "metadata": {},
   "source": [
    "<h3>Listando as primeiras linhas</h3>"
   ]
  },
  {
   "cell_type": "code",
   "execution_count": null,
   "metadata": {
    "collapsed": true
   },
   "outputs": [],
   "source": [
    "df.head()"
   ]
  },
  {
   "cell_type": "markdown",
   "metadata": {
    "colab_type": "text",
    "id": "CGgvDR4-YZeg"
   },
   "source": [
    "<h3>Análise básica do conteúdo</h3>"
   ]
  },
  {
   "cell_type": "code",
   "execution_count": null,
   "metadata": {
    "colab": {
     "base_uri": "https://localhost:8080/",
     "height": 374
    },
    "colab_type": "code",
    "collapsed": true,
    "executionInfo": {
     "elapsed": 816,
     "status": "ok",
     "timestamp": 1553514742178,
     "user": {
      "displayName": "Rodrigo Espindola",
      "photoUrl": "",
      "userId": "00623881267366709334"
     },
     "user_tz": 180
    },
    "id": "kTESur0OBzxm",
    "outputId": "ec510605-8dad-4715-b8e7-533c8d76264c"
   },
   "outputs": [],
   "source": [
    "df.info()"
   ]
  },
  {
   "cell_type": "markdown",
   "metadata": {},
   "source": [
    "<h3>Listando o conteúdo de uma coluna específica em uma linha específica:</h3>\n",
    "<p>Neste caso a coluna cnt na linha número 1, que é a segunda linha.</p>"
   ]
  },
  {
   "cell_type": "code",
   "execution_count": null,
   "metadata": {
    "colab": {
     "base_uri": "https://localhost:8080/",
     "height": 34
    },
    "colab_type": "code",
    "collapsed": true,
    "executionInfo": {
     "elapsed": 861,
     "status": "ok",
     "timestamp": 1553514747141,
     "user": {
      "displayName": "Rodrigo Espindola",
      "photoUrl": "",
      "userId": "00623881267366709334"
     },
     "user_tz": 180
    },
    "id": "V-NAEB_WYj_B",
    "outputId": "e3cce6b7-2e81-4e0e-a156-74352a383e51"
   },
   "outputs": [],
   "source": [
    "df['cnt'][1]"
   ]
  },
  {
   "cell_type": "markdown",
   "metadata": {},
   "source": [
    "<h3>Procurando por linhas que atendem a uma condição</h3>\n",
    "<p>Este seria o equivalente a usar o WHERE do SQL.</p>"
   ]
  },
  {
   "cell_type": "code",
   "execution_count": null,
   "metadata": {
    "colab": {
     "base_uri": "https://localhost:8080/",
     "height": 80
    },
    "colab_type": "code",
    "collapsed": true,
    "executionInfo": {
     "elapsed": 765,
     "status": "ok",
     "timestamp": 1553514756727,
     "user": {
      "displayName": "Rodrigo Espindola",
      "photoUrl": "",
      "userId": "00623881267366709334"
     },
     "user_tz": 180
    },
    "id": "IeVfn7wiZVIv",
    "outputId": "83dba661-26c5-4223-8dae-a42bd9d28190"
   },
   "outputs": [],
   "source": [
    "df[df['cnt']==1349]"
   ]
  },
  {
   "cell_type": "markdown",
   "metadata": {},
   "source": [
    "<h3>Calculando e imprimindo algumas medidas estatísticas básicas sobre uma coluna específica</h3>"
   ]
  },
  {
   "cell_type": "code",
   "execution_count": null,
   "metadata": {
    "colab": {
     "base_uri": "https://localhost:8080/",
     "height": 68
    },
    "colab_type": "code",
    "collapsed": true,
    "executionInfo": {
     "elapsed": 810,
     "status": "ok",
     "timestamp": 1553514762773,
     "user": {
      "displayName": "Rodrigo Espindola",
      "photoUrl": "",
      "userId": "00623881267366709334"
     },
     "user_tz": 180
    },
    "id": "5LbrLYImZ36I",
    "outputId": "13a330ba-cf98-4aa6-c0ed-526db8ec1fce"
   },
   "outputs": [],
   "source": [
    "print(df['cnt'].mean())\n",
    "print(df['cnt'].min())\n",
    "print(df['cnt'].max())"
   ]
  },
  {
   "cell_type": "markdown",
   "metadata": {},
   "source": [
    "<h3>Calculando e imprimindo medidas estatísticas sobre todas as colunas numéricas</h3>"
   ]
  },
  {
   "cell_type": "code",
   "execution_count": null,
   "metadata": {
    "colab": {
     "base_uri": "https://localhost:8080/",
     "height": 297
    },
    "colab_type": "code",
    "collapsed": true,
    "executionInfo": {
     "elapsed": 821,
     "status": "ok",
     "timestamp": 1553514767714,
     "user": {
      "displayName": "Rodrigo Espindola",
      "photoUrl": "",
      "userId": "00623881267366709334"
     },
     "user_tz": 180
    },
    "id": "iSrO2OLaB6uf",
    "outputId": "7178ce76-f96e-4226-d3be-c073fd3551cd"
   },
   "outputs": [],
   "source": [
    "df.describe()"
   ]
  },
  {
   "cell_type": "markdown",
   "metadata": {},
   "source": [
    "<h3>Calculando e imprimindo histogramas sobre todas as colunas numéricas</h3>"
   ]
  },
  {
   "cell_type": "code",
   "execution_count": null,
   "metadata": {
    "colab": {
     "base_uri": "https://localhost:8080/",
     "height": 878
    },
    "colab_type": "code",
    "collapsed": true,
    "executionInfo": {
     "elapsed": 5066,
     "status": "ok",
     "timestamp": 1553514781581,
     "user": {
      "displayName": "Rodrigo Espindola",
      "photoUrl": "",
      "userId": "00623881267366709334"
     },
     "user_tz": 180
    },
    "id": "xi7R8reQTaDr",
    "outputId": "5bb12ef6-855a-4a24-d3b0-2deb04ad0bb7"
   },
   "outputs": [],
   "source": [
    "#%matplotlib inline # only in a Jupyter notebook\n",
    "import matplotlib.pyplot as plt\n",
    "\n",
    "df.hist(bins=50, figsize=(20,15))\n",
    "plt.show()"
   ]
  },
  {
   "cell_type": "markdown",
   "metadata": {},
   "source": [
    "<h3>Gerando gráficos diversos</h3>"
   ]
  },
  {
   "cell_type": "code",
   "execution_count": null,
   "metadata": {
    "colab": {
     "base_uri": "https://localhost:8080/",
     "height": 368
    },
    "colab_type": "code",
    "collapsed": true,
    "executionInfo": {
     "elapsed": 1446,
     "status": "ok",
     "timestamp": 1553514794472,
     "user": {
      "displayName": "Rodrigo Espindola",
      "photoUrl": "",
      "userId": "00623881267366709334"
     },
     "user_tz": 180
    },
    "id": "u5AgXrb_a5LI",
    "outputId": "281eec25-35c5-4ca1-f88b-7c4412831319"
   },
   "outputs": [],
   "source": [
    "df.plot(x='dteday', y='cnt')\n",
    "plt.show()"
   ]
  },
  {
   "cell_type": "code",
   "execution_count": null,
   "metadata": {
    "colab": {
     "base_uri": "https://localhost:8080/",
     "height": 371
    },
    "colab_type": "code",
    "collapsed": true,
    "executionInfo": {
     "elapsed": 1048,
     "status": "ok",
     "timestamp": 1553514970089,
     "user": {
      "displayName": "Rodrigo Espindola",
      "photoUrl": "",
      "userId": "00623881267366709334"
     },
     "user_tz": 180
    },
    "id": "MFN40D_UtPCI",
    "outputId": "471d1865-a69f-4b9f-99c8-239996144314"
   },
   "outputs": [],
   "source": [
    "df.plot(x='dteday', y='temp')\n",
    "plt.show()"
   ]
  },
  {
   "cell_type": "code",
   "execution_count": null,
   "metadata": {
    "colab": {
     "base_uri": "https://localhost:8080/",
     "height": 368
    },
    "colab_type": "code",
    "collapsed": true,
    "executionInfo": {
     "elapsed": 852,
     "status": "ok",
     "timestamp": 1553514938036,
     "user": {
      "displayName": "Rodrigo Espindola",
      "photoUrl": "",
      "userId": "00623881267366709334"
     },
     "user_tz": 180
    },
    "id": "vfh2Hv_dtFeK",
    "outputId": "7997bb3f-704f-49ca-da3a-86fca6d42f83"
   },
   "outputs": [],
   "source": [
    "df.plot(x='dteday', y='season')\n",
    "plt.show()"
   ]
  },
  {
   "cell_type": "code",
   "execution_count": null,
   "metadata": {
    "colab": {
     "base_uri": "https://localhost:8080/",
     "height": 422
    },
    "colab_type": "code",
    "collapsed": true,
    "executionInfo": {
     "elapsed": 1007,
     "status": "ok",
     "timestamp": 1553515130835,
     "user": {
      "displayName": "Rodrigo Espindola",
      "photoUrl": "",
      "userId": "00623881267366709334"
     },
     "user_tz": 180
    },
    "id": "cBI6i06xbKgo",
    "outputId": "e6b93b2f-0e24-470b-bca2-0a266beb03fc"
   },
   "outputs": [],
   "source": [
    "df.plot(x='dteday', y=['temp','season'])\n",
    "plt.show()"
   ]
  }
 ],
 "metadata": {
  "colab": {
   "collapsed_sections": [],
   "name": "notebook-intro.ipynb",
   "provenance": [],
   "version": "0.3.2"
  },
  "kernelspec": {
   "display_name": "Python 3",
   "language": "python",
   "name": "python3"
  },
  "language_info": {
   "codemirror_mode": {
    "name": "ipython",
    "version": 3
   },
   "file_extension": ".py",
   "mimetype": "text/x-python",
   "name": "python",
   "nbconvert_exporter": "python",
   "pygments_lexer": "ipython3",
   "version": "3.6.3"
  }
 },
 "nbformat": 4,
 "nbformat_minor": 1
}
